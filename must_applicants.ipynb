{
 "cells": [
  {
   "cell_type": "markdown",
   "metadata": {
    "collapsed": true,
    "pycharm": {
     "name": "#%% md\n"
    }
   },
   "source": [
    "Imports"
   ]
  },
  {
   "cell_type": "code",
   "execution_count": 86,
   "outputs": [
    {
     "name": "stdout",
     "output_type": "stream",
     "text": [
      "Your browser has been opened to visit:\n",
      "\n",
      "    https://accounts.google.com/o/oauth2/auth?client_id=631554413201-g551prrnk9qi5ck6iejdpoua0q9k7p6q.apps.googleusercontent.com&redirect_uri=http%3A%2F%2Flocalhost%3A8080%2F&scope=https%3A%2F%2Fwww.googleapis.com%2Fauth%2Fdrive&access_type=offline&response_type=code\n",
      "\n",
      "Authentication successful.\n"
     ]
    }
   ],
   "source": [
    "import pandas as pd\n",
    "import os\n",
    "import pygsheets\n",
    "import pydrive\n",
    "import json\n",
    "import csv\n",
    "from google.oauth2 import service_account\n",
    "from pydrive.auth import GoogleAuth\n",
    "from pydrive.drive import GoogleDrive\n",
    "\n",
    "gauth = GoogleAuth()\n",
    "gauth.LocalWebserverAuth()\n",
    "\n",
    "drive = GoogleDrive(gauth)\n"
   ],
   "metadata": {
    "collapsed": false,
    "pycharm": {
     "name": "#%%\n"
    }
   }
  },
  {
   "cell_type": "markdown",
   "source": [
    "## Preparation\n",
    "1. Enable google sheet and drive [api](https://developers.google.com/sheets/api/quickstart/python)\n",
    "2. Place ```client_secrets.json``` in working directory"
   ],
   "metadata": {
    "collapsed": false,
    "pycharm": {
     "name": "#%% md\n"
    }
   }
  },
  {
   "cell_type": "markdown",
   "source": [
    "Get sheet id"
   ],
   "metadata": {
    "collapsed": false,
    "pycharm": {
     "name": "#%% md\n"
    }
   }
  },
  {
   "cell_type": "code",
   "execution_count": 87,
   "outputs": [
    {
     "name": "stdout",
     "output_type": "stream",
     "text": [
      "<Spreadsheet 'Copy of Application form MuST Bursaries 2021 (Responses)' Sheets:1>\n"
     ]
    }
   ],
   "source": [
    "# replace here\n",
    "sheet_id = '1k_gtDTg27ZmP9plBcq5coMw-67EgkIFMFTRHphU9Owg'\n",
    "\n",
    "client = pygsheets.authorize(client_secret='client_secrets.json')\n",
    "\n",
    "sheet_data = client.sheet.get(sheet_id)\n",
    "\n",
    "sheet = client.open_by_key(sheet_id)\n",
    "\n",
    "print(sheet)"
   ],
   "metadata": {
    "collapsed": false,
    "pycharm": {
     "name": "#%%\n"
    }
   }
  },
  {
   "cell_type": "markdown",
   "source": [
    "Select specific worksheet"
   ],
   "metadata": {
    "collapsed": false
   }
  },
  {
   "cell_type": "code",
   "execution_count": 88,
   "outputs": [
    {
     "name": "stdout",
     "output_type": "stream",
     "text": [
      "<Worksheet 'Form responses 1' index:0>\n"
     ]
    }
   ],
   "source": [
    "wks = sheet.worksheet_by_title('Form responses 1')\n",
    "print(wks)\n"
   ],
   "metadata": {
    "collapsed": false,
    "pycharm": {
     "name": "#%%\n"
    }
   }
  },
  {
   "cell_type": "code",
   "source": [
    "wks.cols # To view the number of columns\n",
    "wks.rows # To view the number of rows\n",
    "print(f\"There are {wks.cols} columns in the gsheet!\")\n",
    "print(f\"There are {wks.rows} rows in the gsheet!\")\n"
   ],
   "metadata": {
    "collapsed": false,
    "pycharm": {
     "name": "#%%\n"
    }
   },
   "execution_count": 89,
   "outputs": [
    {
     "name": "stdout",
     "output_type": "stream",
     "text": [
      "There are 20 columns in the gsheet!\n",
      "There are 211 rows in the gsheet!\n"
     ]
    }
   ]
  },
  {
   "cell_type": "markdown",
   "source": [
    "sheet as dataframe"
   ],
   "metadata": {
    "collapsed": false
   }
  },
  {
   "cell_type": "code",
   "execution_count": 90,
   "outputs": [
    {
     "data": {
      "text/plain": "             Timestamp Name and Surname:  \\\n0  11/08/2020 16:33:13     Dylan testing   \n1  12/08/2020 11:01:26     Damian Tamine   \n2  12/08/2020 11:22:40    Jacques Ehlers   \n3  12/08/2020 11:39:41   OBAKENG DITHATE   \n4  12/08/2020 12:43:20   JP van Deventer   \n\n  UJ notes and university ranking\\nhttps://cwur.org/2019-2020.php (NWU 922)\\nIf not found there, consult http://www.webometrics.info\\n(NWU 1788)  \\\n0                                                                                                                                                  \n1                                                                                                                                                  \n2                                                                                                                                                  \n3                                                                                                                                                  \n4                                                                                                                                                  \n\n    Citizenship:             Email address:  Phone number/s:  \\\n0           Nope                      Sorry  All the numbers   \n1           RSA      damiantamine@gmail.com        711349659   \n2  South African  jacquesehlers15@gmail.com        826627782   \n3  SOUTH AFRICAN    evans.obakeng@gmail.com        763138495   \n4  South-African         jpvd7991@gmail.com        842311071   \n\n  What is your highest completed qualification, and from which institution?  \\\n0  I have a bachelors from the school of hard knocks                          \n1                    Matric - St. Benedict's College                          \n2                        National Senior Certificate                          \n3                          Matric. Zeerust Hoerskool                          \n4  3rd Year Computer and Electronic Engineering (...                          \n\n  What were your final marks/results for your highest qualification?  \\\n0       I think this should be in another format....                   \n1                                             78.4 %                   \n2                                                 83                   \n3                                                70%                   \n4                                 63.5% Average Mark                   \n\n  Are you currently busy with a qualification? If so, please specify qualification and institution.   \\\n0                                               NOpe                                                   \n1                             B.Eng Mechanical - NWU                                                   \n2      Industrial Engineering, North-West University                                                   \n3  yes. BEng Mechanical Engineering. NWU potchefs...                                                   \n4  B.Eng Computer and Electronic Engineering 4th ...                                                   \n\n  What type of qualification are you interested in pursuing?  \\\n0                                            Masters           \n1                                            Masters           \n2                                            Masters           \n3                                            Masters           \n4                                            Masters           \n\n  Why are you interested in working with MuST, specifically?  \\\n0                            Because there is a form           \n1  MuST is developing research in field's that ap...           \n2  My final-year project is application developme...           \n3  I have always wanted to learn more about netwo...           \n4  A common problem with most multi-cultural work...           \n\n                            What are your strengths?  \\\n0                                 I know how to type   \n1  Team-work; problem solving; people skills; per...   \n2  Programming, mathematics and application devel...   \n3  I am focused and dedicated. I always make sure...   \n4  Analytical Thinking, Good Communication skills...   \n\n   And your weaknesses? (Come on, we all have them.)  \\\n0                         I do not know what to type   \n1      Coding (not a mechanical engineer's favorite)   \n2  Underachiever (I don't take something on unles...   \n3  Personal issues can sometimes distract me from...   \n4  Impatience when projects pass the set deadline...   \n\n  Please finalise your application by e-mailing your CV to must.assistant@gmail.com.  (A brief CV is fine)  \\\n0                                  Confirm: CV sent.                                                         \n1                                  Confirm: CV sent.                                                         \n2                                  Confirm: CV sent.                                                         \n3                                  Confirm: CV sent.                                                         \n4                                  Confirm: CV sent.                                                         \n\n  Is there anything interesting that we should know about you?  \\\n0                                               None             \n1  I participated in the 2018 Varsity Cup Hockey ...             \n2  I am an adventurous person. I have a small unr...             \n3  My final year I don't have any funding for my ...             \n4  I am a very well disciplined individual that e...             \n\n  Institution/degree credible?\\n1 excellent\\n2 workable\\n3 don't know\\n4 no   \\\n0                                               None                           \n1                                              2 NWU                           \n2                                              2 NWU                           \n3                                              2 NWU                           \n4                                              2 NWU                           \n\n  Scientific background?\\n1 well-aligned\\n2 eng/science\\n3 not appropriate\\n4 Unsure\\n5 No  \\\n0                                               None                                         \n1                                     2 - Mechanical                                         \n2                                     2 - industrial                                         \n3                                     2 - Mechanical                                         \n4                                                  1                                         \n\n  Programming experience?\\n1 Yes incl Python\\n2 Yes\\n3 Unsure\\n4 No  \\\n0                                               None                  \n1                                                  3                  \n2                                                  1                  \n3                                                  3                  \n4                                                  2                  \n\n                      1 Yes\\n2 Maybe\\n3 Unsure\\n4 No  \\\n0                                               None   \n1  2 1st yr module Programming for Engineers, wit...   \n2                                                  2   \n3                                                  2   \n4                                                  2   \n\n                          Motivation and other notes  \n0                                               None  \n1  Mechanical engineering, programming unsure, go...  \n2  Industrial engineering, good marks, enjoys app...  \n3  Mechanical engineering, programming unsure, go...  \n4          OK marks, not selling himself well in CV.  ",
      "text/html": "<div>\n<style scoped>\n    .dataframe tbody tr th:only-of-type {\n        vertical-align: middle;\n    }\n\n    .dataframe tbody tr th {\n        vertical-align: top;\n    }\n\n    .dataframe thead th {\n        text-align: right;\n    }\n</style>\n<table border=\"1\" class=\"dataframe\">\n  <thead>\n    <tr style=\"text-align: right;\">\n      <th></th>\n      <th>Timestamp</th>\n      <th>Name and Surname:</th>\n      <th>UJ notes and university ranking\\nhttps://cwur.org/2019-2020.php (NWU 922)\\nIf not found there, consult http://www.webometrics.info\\n(NWU 1788)</th>\n      <th>Citizenship:</th>\n      <th>Email address:</th>\n      <th>Phone number/s:</th>\n      <th>What is your highest completed qualification, and from which institution?</th>\n      <th>What were your final marks/results for your highest qualification?</th>\n      <th>Are you currently busy with a qualification? If so, please specify qualification and institution.</th>\n      <th>What type of qualification are you interested in pursuing?</th>\n      <th>Why are you interested in working with MuST, specifically?</th>\n      <th>What are your strengths?</th>\n      <th>And your weaknesses? (Come on, we all have them.)</th>\n      <th>Please finalise your application by e-mailing your CV to must.assistant@gmail.com.  (A brief CV is fine)</th>\n      <th>Is there anything interesting that we should know about you?</th>\n      <th>Institution/degree credible?\\n1 excellent\\n2 workable\\n3 don't know\\n4 no</th>\n      <th>Scientific background?\\n1 well-aligned\\n2 eng/science\\n3 not appropriate\\n4 Unsure\\n5 No</th>\n      <th>Programming experience?\\n1 Yes incl Python\\n2 Yes\\n3 Unsure\\n4 No</th>\n      <th>1 Yes\\n2 Maybe\\n3 Unsure\\n4 No</th>\n      <th>Motivation and other notes</th>\n    </tr>\n  </thead>\n  <tbody>\n    <tr>\n      <th>0</th>\n      <td>11/08/2020 16:33:13</td>\n      <td>Dylan testing</td>\n      <td></td>\n      <td>Nope</td>\n      <td>Sorry</td>\n      <td>All the numbers</td>\n      <td>I have a bachelors from the school of hard knocks</td>\n      <td>I think this should be in another format....</td>\n      <td>NOpe</td>\n      <td>Masters</td>\n      <td>Because there is a form</td>\n      <td>I know how to type</td>\n      <td>I do not know what to type</td>\n      <td>Confirm: CV sent.</td>\n      <td>None</td>\n      <td>None</td>\n      <td>None</td>\n      <td>None</td>\n      <td>None</td>\n      <td>None</td>\n    </tr>\n    <tr>\n      <th>1</th>\n      <td>12/08/2020 11:01:26</td>\n      <td>Damian Tamine</td>\n      <td></td>\n      <td>RSA</td>\n      <td>damiantamine@gmail.com</td>\n      <td>711349659</td>\n      <td>Matric - St. Benedict's College</td>\n      <td>78.4 %</td>\n      <td>B.Eng Mechanical - NWU</td>\n      <td>Masters</td>\n      <td>MuST is developing research in field's that ap...</td>\n      <td>Team-work; problem solving; people skills; per...</td>\n      <td>Coding (not a mechanical engineer's favorite)</td>\n      <td>Confirm: CV sent.</td>\n      <td>I participated in the 2018 Varsity Cup Hockey ...</td>\n      <td>2 NWU</td>\n      <td>2 - Mechanical</td>\n      <td>3</td>\n      <td>2 1st yr module Programming for Engineers, wit...</td>\n      <td>Mechanical engineering, programming unsure, go...</td>\n    </tr>\n    <tr>\n      <th>2</th>\n      <td>12/08/2020 11:22:40</td>\n      <td>Jacques Ehlers</td>\n      <td></td>\n      <td>South African</td>\n      <td>jacquesehlers15@gmail.com</td>\n      <td>826627782</td>\n      <td>National Senior Certificate</td>\n      <td>83</td>\n      <td>Industrial Engineering, North-West University</td>\n      <td>Masters</td>\n      <td>My final-year project is application developme...</td>\n      <td>Programming, mathematics and application devel...</td>\n      <td>Underachiever (I don't take something on unles...</td>\n      <td>Confirm: CV sent.</td>\n      <td>I am an adventurous person. I have a small unr...</td>\n      <td>2 NWU</td>\n      <td>2 - industrial</td>\n      <td>1</td>\n      <td>2</td>\n      <td>Industrial engineering, good marks, enjoys app...</td>\n    </tr>\n    <tr>\n      <th>3</th>\n      <td>12/08/2020 11:39:41</td>\n      <td>OBAKENG DITHATE</td>\n      <td></td>\n      <td>SOUTH AFRICAN</td>\n      <td>evans.obakeng@gmail.com</td>\n      <td>763138495</td>\n      <td>Matric. Zeerust Hoerskool</td>\n      <td>70%</td>\n      <td>yes. BEng Mechanical Engineering. NWU potchefs...</td>\n      <td>Masters</td>\n      <td>I have always wanted to learn more about netwo...</td>\n      <td>I am focused and dedicated. I always make sure...</td>\n      <td>Personal issues can sometimes distract me from...</td>\n      <td>Confirm: CV sent.</td>\n      <td>My final year I don't have any funding for my ...</td>\n      <td>2 NWU</td>\n      <td>2 - Mechanical</td>\n      <td>3</td>\n      <td>2</td>\n      <td>Mechanical engineering, programming unsure, go...</td>\n    </tr>\n    <tr>\n      <th>4</th>\n      <td>12/08/2020 12:43:20</td>\n      <td>JP van Deventer</td>\n      <td></td>\n      <td>South-African</td>\n      <td>jpvd7991@gmail.com</td>\n      <td>842311071</td>\n      <td>3rd Year Computer and Electronic Engineering (...</td>\n      <td>63.5% Average Mark</td>\n      <td>B.Eng Computer and Electronic Engineering 4th ...</td>\n      <td>Masters</td>\n      <td>A common problem with most multi-cultural work...</td>\n      <td>Analytical Thinking, Good Communication skills...</td>\n      <td>Impatience when projects pass the set deadline...</td>\n      <td>Confirm: CV sent.</td>\n      <td>I am a very well disciplined individual that e...</td>\n      <td>2 NWU</td>\n      <td>1</td>\n      <td>2</td>\n      <td>2</td>\n      <td>OK marks, not selling himself well in CV.</td>\n    </tr>\n  </tbody>\n</table>\n</div>"
     },
     "execution_count": 90,
     "metadata": {},
     "output_type": "execute_result"
    }
   ],
   "source": [
    "df = wks.get_as_df()\n",
    "\n",
    "df.head()\n"
   ],
   "metadata": {
    "collapsed": false,
    "pycharm": {
     "name": "#%%\n"
    }
   }
  },
  {
   "cell_type": "markdown",
   "source": [
    "Get all values google docs folders, and links to each."
   ],
   "metadata": {
    "collapsed": false,
    "pycharm": {
     "name": "#%% md\n"
    }
   }
  },
  {
   "cell_type": "code",
   "execution_count": 95,
   "outputs": [
    {
     "name": "stdout",
     "output_type": "stream",
     "text": [
      "Received 10 files from Files.list()\n",
      "title: Copy of Application form MuST Bursaries 2021 (Responses), id: 1k_gtDTg27ZmP9plBcq5coMw-67EgkIFMFTRHphU9Owg\n",
      "title: Application form MuST Bursaries 2021 (Responses), id: 11Eptg94-AU_jLnGVmQLSeMM6ws2JDDPNnyEYrEFYtSo\n",
      "title: Tawele O, id: 10N4HXLkR_zzYgLpn5xBTOCEb5i7L54nF\n",
      "title: Thamoethata TK, id: 1JUeAsyDYUD0bRV2JFbYJXmTQI_IvbrgC\n",
      "title: Wamba ET, id: 103-6wt76eEVuvSjbS_jAt77ondxq91fD\n",
      "title: Copy of Application form MuST Bursaries 2021, id: 1oEk-bRVInlJZZxC8uAzoN8bFmbgIJ6klsUbKX4q80w4\n",
      "title: Toukam S, id: 1PUL2Kp9iNMLrBZ8GwnD9LRUzpNxGY3R_\n",
      "title: Phorah K, id: 1S8K2acdupPIuGOowzlbTUeE_oH_I4-Ya\n",
      "title: Tondji ICT, id: 1HUtHkkz-00KnHpzv5RrXbkn3IryDj7ll\n",
      "title: Mashile K, id: 1m5tNC7LwkrPTXBUDiTPQCmLvCOt1GF5Q\n",
      "Received 10 files from Files.list()\n",
      "title: Kibari K, id: 1wsyVvSjl_01O70s5PEZj7p7OtN50ppw8\n",
      "title: Kotanmi GB, id: 1Ve15bEDV6tKtX41zSVPuK2wUGPs7Y_2E\n",
      "title: Application form MuST Bursaries 2021, id: 1Wui8IONxzB8YDpxPFgM7ENjrx8DDBKZW9QEN_nLmygc\n",
      "title: Mouton C, id: 17M4wsC_cl_MEMruZvgy-2t-S-kost2ft\n",
      "title: Siro C, id: 1ZTUswo7pOcUPKMH4F9pALzxuhU5SE4zK\n",
      "title: Pius N, id: 1CkGHL9quksrKhYfUcjVafaERxbQUveP9\n",
      "title: Ngorima SA, id: 1eqVeuPSRCBQjlYGZKdz38_fu4TFnsrqd\n",
      "title: Makenne NL, id: 1z7GZ4EyfIXUCmtpQ_JY8XzXFVcwSQaQp\n",
      "title: Mohammed S, id: 1cPBoO2HolwXvltRSIxqAu-PWXjFK1fCh\n",
      "title: Abdulah A, id: 1p_s2R01JPNdBmJIQXbKq-jEKgCeKdKms\n",
      "Received 10 files from Files.list()\n",
      "title: Kriel E, id: 1kzMibJGPMdZns3eaTSsqqIMphS8WVpLi\n",
      "title: Machangara DT, id: 1uCBnRkgyJ34aQdStX4zftAQ1s8IkfEdM\n",
      "title: Fourie E, id: 1o7rip_LQIfXpxSpMJmYaY-gkX3R-qgRg\n",
      "title: Olaniyan J, id: 1xZWdz5_02B7ceJBCPyGRK4GohrD26po3\n",
      "title: Sikasote C, id: 15-jWnEEwo_KZrIIt_Y8yORYo8didNmdB\n",
      "title: Oluwafisayo D, id: 1E1ybXAqJwH5Bq38c86hBBUWH0eIxWmm6\n",
      "title: Echeonwu EC, id: 1Qm8muU9Se736eauYGLA2X_kXdNk9mTK6\n",
      "title: Thubisi I, id: 14Cm4dhWRUcep-ggrOLZdizapmZBtwEfn\n",
      "title: Ibrahim MD, id: 14WLZawGu4c9iq73ILkpfmXr5vb687yze\n",
      "title: Usman O, id: 1u2tzdVSBYQo313NH7K96xxvZSUmywIQA\n",
      "Received 10 files from Files.list()\n",
      "title: Chitsiga TB, id: 1d0sxzCR4oDS7pq9pvh8bV85CmZMALddM\n",
      "title: Tezoh F, id: 13tmozRPxV8i5ziXIwj31qg01FXvdBitm\n",
      "title: Musa OF, id: 1nJQ6logPl3dYHpvpX4zsLluo2rWwC_sY\n",
      "title: Grant C, id: 1XF5_MMLa-SQO_va9Gc8WIUJZyt6TagS4\n",
      "title: Ahishakiye A, id: 1BiBPbsUDzweMm9xs8hJ_CJeyhWI20cnQ\n",
      "title: Dithate OE, id: 1wuYQ03G_qUu19LnK5w1-cmIt-9xYyE18\n",
      "title: Mbewe S, id: 1YTojXfzAJfNKyqEoTP0EQHOLR5ET3iys\n",
      "title: Ndjeumou RC, id: 1GdyYUJYB_CQCBJ4uxK3yRzCj0DKzkj8v\n",
      "title: Ampeirwe I, id: 1FOo2g_4OybdPQhwRG-XoBomTIhzPKFHe\n",
      "title: Popoola IO, id: 14yVZVAXFh_887b9W5UpkDSGVJwKVqxZe\n",
      "Received 10 files from Files.list()\n",
      "title: Macharia CN, id: 12JK1p2AoFw82CEdqt1yyk5L9-zQKY9WG\n",
      "title: Zubero N, id: 1vZG4lkxO8atMIFjkF4CrG-y2ZN489Qeg\n",
      "title: Moukengue MPK, id: 1OOuTYgP79i8eYpx5m4a8oamy2zzDC_QR\n",
      "title: Gaboipewe OR, id: 1vva1EfzlFW37tOWskPoK-4lDNF6zcoLK\n",
      "title: Muthoni KG, id: 1sioZsA4REhVJUfQCYoA2Oq7LLTceG091\n",
      "title: Mpinda NB, id: 1BSkjDuaUgcvSWk8WBZuPkLzdy0b4ykj8\n",
      "title: Temgoua G, id: 1iOLaL4UbGeBhrA16OTlLUBoc7P2E14s2\n",
      "title: Osei S, id: 1pZTahYKFArRCt1hg3wOxX9HxqnsORPk8\n",
      "title: Tlotleng K, id: 14eHAWotIYtap1iy-HV4fZwREtgsUKGFC\n",
      "title: Mafomisa MI, id: 1EOcEvMnE0LOtJXkzpP9op1kAfV9e85Qx\n",
      "Received 10 files from Files.list()\n",
      "title: Niyongabo G, id: 15XrkJSLDt2P81d6OswEVqMmKtbxbKXp5\n",
      "title: Sedar NTL, id: 1BaMQs87e9zMvtHVKRcODp0PLWH5XnMox\n",
      "title: Sakayo TS, id: 1IvoCIacz2KnNT4tkt7WyIx_PsRjAp5Bp\n",
      "title: Uche FS, id: 1JTQ2jZjyf9O0Ro56EDk8YGAPjR8ddJ-q\n",
      "title: Diseko B, id: 1I-ZUw8iHJWFZEK1qv0Wy2maBOMJszcf3\n",
      "title: Manganye D, id: 1hppFQCTiPLPLv10DJxh1BAbbNAQnbauF\n",
      "title: Aworka R, id: 1oQl76560rnXg4cLB4c4942EoeqbhOBzZ\n",
      "title: Ilunga G, id: 1epm990ftof0Fo6P7z1Alcb6RcVHh-Cff\n",
      "title: Ojo OE, id: 1BEc4z4jMv4MMpp-be67CHvKr56nxw4Aj\n",
      "title: Landu TT, id: 1fng3gjoUn2JeRhhu-IRTY0QaK4pvN8Zq\n",
      "Received 10 files from Files.list()\n",
      "title: Anike MAS, id: 1VKZuFvPdlvuR64hbYBHpS46NQj5LrtF6\n",
      "title: Danso M, id: 1hrcjm4zlXe52Xi3cUbiV3UnlMjB1Os3Y\n",
      "title: Daniel L, id: 1LLYOPoqX1pDVutusgcs6C4nyaPWTC7vp\n",
      "title: Kesiku C, id: 1jgy8VU_t-xgpb5hnnY_RMfJmnOPmsXA_\n",
      "title: Shabe R, id: 11B75IHTMHDkBu5gPRMnRkQflgDYMAcXX\n",
      "title: Akala J, id: 1_8UX6kbsfAZ_tTCpOLg001tTrLowoMin\n",
      "title: Nzey N, id: 1J9DB_lOdBkMTqN_GHWK5AKQi2ZvyXBMr\n",
      "title: Muhau JA, id: 1E5k5u2cHgO4LCMkO67bmQfAYwVSOaIyt\n",
      "title: Mojoyinola MO, id: 1SxIeiEclAoHR5CiQPQsXYLaDSoDiLRAs\n",
      "title: Mrindoko G, id: 1pXqxSBScH10g_Ro2qvf6wlUAbdwEpK-x\n",
      "Received 10 files from Files.list()\n",
      "title: Oosthuizen MC, id: 1rFGOAO1VNye4fRX8km_izkirwek6EU-l\n",
      "title: Bitomo FR, id: 1u9uHZIlsPdrxC8wqFi0mHzRvTp7HyDUR\n",
      "title: Baliki KP, id: 1BlgZogucN4w_vMxKnAPqhKo0yCweYM58\n",
      "title: Wabvuta B, id: 1ZDQKJnCQAfxH8fbWytdGngvhXGX0934n\n",
      "title: Muleya N, id: 171STXKBEJfqw_SHlkrQJLBKJ6_Q8zD7I\n",
      "title: Foka T, id: 1dCJXDeIe7sim1ivUwlN6Mge6XHCAb6OO\n",
      "title: Brochure MuST support 2021, id: 1bm6af9x2X52usGfiD8JNsWlf3J0r1rrTT20qRKdhFUs\n",
      "title: Oosthuizen A, id: 1v0Vkqgn9aX7IRwiE2vBZ2PjHSj00HFvN\n",
      "title: Ali JT, id: 1ZuiaSOer5rvsfrnIUHXiHk69nTEbY_rI\n",
      "title: Ndlovu L, id: 12LXZdxeV6nfi5BjpCrfxJ4JR8rNPRI25\n",
      "Received 10 files from Files.list()\n",
      "title: Nakeng M, id: 1JzDcngZsmGQsi57VoariEcRx-eofIFOk\n",
      "title: Bosco J, id: 17LTRcxenUXYJa9Qkj6GzrvFBLCwGs5ml\n",
      "title: Zoulla D, id: 1w1yUOyNCuox7s0IL9qsa_bDsLj8mOewd\n",
      "title: Mayumu N, id: 1BEFRmSPx6HZeYBkYXnAorXQE9ruZ_8o4\n",
      "title: Mashego K, id: 17w7EhVCrf8veWFc6uf3FKbku5N4lcjGa\n",
      "title: Mphogo D, id: 1gGbTByFRXz7dlY89tDpJ30aVOB-vADbH\n",
      "title: Leeyio TR, id: 1F5oodASWoXRYwfhaUnd0XCyOLNjm6VIy\n",
      "title: Ikhizama G, id: 1dcRlGasgfYZzBBosIEExmK4P5snBS38T\n",
      "title: Nworu C, id: 1ITBeekstgkni34TsUbq3n3MCq6uf1rAm\n",
      "title: Ramandiamanana HF, id: 1SQbNm7A_vRVqF56FzXf_ZN2a_IzctsFf\n",
      "Received 10 files from Files.list()\n",
      "title: Abolaji BH, id: 1fTdd27-izw2QrlW2_fteOOXCGzoDun2G\n",
      "title: Bamiro BR, id: 19zJuj4Jnk4ZzRyC1dEtMHJ7wH0hpVSBi\n",
      "title: Saadio CL, id: 1puk1MuPfpUNCaE2zpNaFZBQ3kYP8Nrru\n",
      "title: Adeiza EO, id: 15SkWFiWhNtL6Cg2ruMKkFKu5KaiILleS\n",
      "title: Bamikole AE, id: 1U74t0d0chzLozrYAjxH2D4sXmjj3EJeo\n",
      "title: Beza A, id: 1qQ8wlX6Sl1L3at4xuI7tfleDN-E8AOGh\n",
      "title: Lambebo AT, id: 1iBI_AMRRqXDF9t0UEomqF0AWWk-z1RFm\n",
      "title: Salah K, id: 1zBB33nhZYlvi2NVAkallBu5x9JGcgjvO\n",
      "title: Ntumba E, id: 1iBd_pemEKLSyGMvuuh0Ovs_S0WeDNgde\n",
      "title: Mubakilayi Y, id: 1bqa0ZEoXQqyHpvUmEBqp878fLwFk4vil\n",
      "Received 10 files from Files.list()\n",
      "title: Nyamekye K, id: 11q9sYmKllieg5qPXCcb6k0hXGILdqQGD\n",
      "title: Bakambana JN, id: 1-DmdYooEzQxmDydZQeSo-0s5vg-wmvTa\n",
      "title: brochure template br_dot_03422, id: 1rsYyrcg7xvlRBhbHGHiaH3hnw-Ip8nJH\n",
      "title: Gumede MT, id: 18KWhZOQJ-Fe2IOMxC_UNVE_-R6jPfras\n",
      "title: Marais J, id: 1kBuK6KsrUPtF8kuDxjgqq5vWdN8WcTmU\n",
      "title: Mounton M, id: 1qr6uqY_tMGKUnzsx_dMh2V76S_s-orva\n",
      "title: Sebolau OB, id: 1APkiEpVuHCO1iSSZkaEB0R7YyF1TqFyH\n",
      "title: MuST bursary banner ad2 2021, id: 1BQAyLBrPi4MzNjRv3YtrVHEzXA19v04NAvdE33CVXeI\n",
      "title: Planning postgrad intake 2021, id: 1RHwmYYAkvXi8pjlRjsV36Dj2eoKKgqqfvD3de_onSUw\n",
      "title: Ehlers J, id: 1xxim2lt9dkeYyzURFKRK5zMHkbDw5qre\n",
      "Received 9 files from Files.list()\n",
      "title: Tamine D, id: 1crMU692BaEgVwT0OMHVR45ovMzTJRHWg\n",
      "title: UPDATED CV.pdf, id: 1SuNkSq-izJT35kig7W0AQQkX_hdLxNzY\n",
      "title: Certificate_C-GZABL4WL6E.pdf, id: 1qy4CcZIDlGH_VLz8QmgBGLMZ9OfmkgLz\n",
      "title: Van Deventer JP, id: 14KxRtq6lLERfRd1Xv0IQf_CHk0fUOg1J\n",
      "title: Makhubela P, id: 1J1UBofTa5z7gc68lHvmpWbpNmWlFA7nA\n",
      "title: MuST-Postgrad-Advert-2021, id: 1XV5B2C2j6ZtygKeEQbjJG04sqRdvWsq-oIQOJs1wAa0\n",
      "title: poweredtemplate acknowledgements, id: 1tFrSk0J4B6y_2wXgnyD0kHI_AknKCxGlwbWVkpIkfRI\n",
      "title: A Ullah, id: 1QQxMmZOVqUbzbvG6_TAMQ6IekT5Ft7A9\n",
      "title: Monoto T, id: 1W78KflrazYsmXzxan2VUsJnsMto6TvYI\n"
     ]
    }
   ],
   "source": [
    "name_list = []\n",
    "id_list = []\n",
    "link_list = []\n",
    "for file_list in drive.ListFile({'q': \"'1rQjBcmqhDkngnbmn12JNQTPFx6lB3OLF' in parents and trashed=false\", 'maxResults': 10}):\n",
    "  print('Received %s files from Files.list()' % len(file_list)) # <= 10\n",
    "  for file1 in file_list:\n",
    "      name_list.append(file1['title'])\n",
    "      id_list.append(file1['id'])\n",
    "      link_list.append(f\"https://drive.google.com/drive/folders/{file1['id']}?usp=sharing\")\n",
    "      print('title: %s, id: %s' % (file1['title'], file1['id']))"
   ],
   "metadata": {
    "collapsed": false,
    "pycharm": {
     "name": "#%%\n"
    }
   }
  },
  {
   "cell_type": "markdown",
   "source": [
    "Find and replace name with hyperlinks to gdrive\n",
    "Replace specific values in gsheets"
   ],
   "metadata": {
    "collapsed": false
   }
  },
  {
   "cell_type": "code",
   "execution_count": 100,
   "outputs": [
    {
     "name": "stdout",
     "output_type": "stream",
     "text": [
      "[WARNING] entry not found, Copy of Application form MuST Bursaries 2021 (Responses)\n",
      "[WARNING] entry not found, Application form MuST Bursaries 2021 (Responses)\n",
      "[WARNING] entry not found, Copy of Application form MuST Bursaries 2021\n",
      "[WARNING] entry not found, Application form MuST Bursaries 2021\n",
      "[WARNING] Duplicate found, Do manually, Olaniyan J\n",
      "[WARNING] Duplicate found, Do manually, Ilunga G\n",
      "[WARNING] Duplicate found, Do manually, Ojo OE\n",
      "[WARNING] Duplicate found, Do manually, Anike MAS\n",
      "[WARNING] Duplicate found, Do manually, Daniel L\n",
      "[WARNING] Duplicate found, Do manually, Oosthuizen MC\n",
      "[WARNING] entry not found, Brochure MuST support 2021\n",
      "[WARNING] Duplicate found, Do manually, Oosthuizen A\n",
      "[WARNING] Duplicate found, Do manually, Ali JT\n",
      "[WARNING] entry not found, Ndlovu L\n",
      "[WARNING] entry not found, Abolaji BH\n",
      "[WARNING] Duplicate found, Do manually, Saadio CL\n",
      "[WARNING] entry not found, Ntumba E\n",
      "[WARNING] entry not found, brochure template br_dot_03422\n",
      "[WARNING] entry not found, MuST bursary banner ad2 2021\n",
      "[WARNING] entry not found, Planning postgrad intake 2021\n",
      "[WARNING] entry not found, UPDATED CV.pdf\n",
      "[WARNING] entry not found, Certificate_C-GZABL4WL6E.pdf\n",
      "[WARNING] entry not found, MuST-Postgrad-Advert-2021\n",
      "[WARNING] entry not found, poweredtemplate acknowledgements\n",
      "[WARNING] Duplicate found, Do manually, A Ullah\n"
     ]
    }
   ],
   "source": [
    "for name,link in zip(name_list,link_list):\n",
    "    # print(name, link)\n",
    "\n",
    "    first = name.split()[0]\n",
    "    cells = wks.find(first, searchByRegex=False, matchCase=False,\n",
    "         matchEntireCell=False, includeFormulas=True,\n",
    "        cols=(1,3), rows=None, forceFetch=True)\n",
    "\n",
    "    if len(cells) > 1:\n",
    "        print(f\"[WARNING] Duplicate found, Do manually, {name}\")\n",
    "        continue\n",
    "    elif len(cells) == 0:\n",
    "        print(f'[WARNING] entry not found, {name}')\n",
    "        continue\n",
    "\n",
    "    original_name = cells[0].value\n",
    "    wks.update_value(cells[0].label, f'=HYPERLINK(\"{link}\", \"{original_name}\")')\n"
   ],
   "metadata": {
    "collapsed": false,
    "pycharm": {
     "name": "#%%\n"
    }
   }
  }
 ],
 "metadata": {
  "kernelspec": {
   "display_name": "Python 3",
   "language": "python",
   "name": "python3"
  },
  "language_info": {
   "codemirror_mode": {
    "name": "ipython",
    "version": 2
   },
   "file_extension": ".py",
   "mimetype": "text/x-python",
   "name": "python",
   "nbconvert_exporter": "python",
   "pygments_lexer": "ipython2",
   "version": "2.7.6"
  }
 },
 "nbformat": 4,
 "nbformat_minor": 0
}